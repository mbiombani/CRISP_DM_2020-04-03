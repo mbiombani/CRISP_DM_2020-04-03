{
 "cells": [
  {
   "cell_type": "raw",
   "metadata": {},
   "source": [
    "Context\n",
    "From World Health Organization - On 31 December 2019, WHO was alerted to several cases of pneumonia in Wuhan City, Hubei Province of China. The virus did not match any other known virus. This raised concern because when a virus is new, we do not know how it affects people.\n",
    "\n",
    "So daily level information on the affected people can give some interesting insights when it is made available to the broader data science community.\n",
    "\n",
    "Johns Hopkins University has made an excellent dashboard using the affected cases data. Data is extracted from the google sheets associated and made available here.\n",
    "\n",
    "\n",
    "Content\n",
    "2019 Novel Coronavirus (2019-nCoV) is a virus (more specifically, a coronavirus) identified as the cause of an outbreak of respiratory illness first detected in Wuhan, China. Early on, many of the patients in the outbreak in Wuhan, China reportedly had some link to a large seafood and animal market, suggesting animal-to-person spread. However, a growing number of patients reportedly have not had exposure to animal markets, indicating person-to-person spread is occurring. At this time, it’s unclear how easily or sustainably this virus is spreading between people - CDC\n",
    "\n",
    "This dataset has daily level information on the number of affected cases, deaths and recovery from 2019 novel coronavirus. Please note that this is a time series data and so the number of cases on any given day is the cumulative number.\n",
    "\n",
    "The data is available from 22 Jan, 2020.\n",
    "\n",
    "Column Description\n",
    "Main file in this dataset is covid19data.csv and the detailed descriptions are below.\n",
    "\n",
    "covid19data.csv\n",
    "\n",
    "Sno - Serial number\n",
    "ObservationDate - Date of the observation in MM/DD/YYYY\n",
    "Province/State - Province or state of the observation (Could be empty when missing)\n",
    "Country/Region - Country of observation\n",
    "Last Update - Time in UTC at which the row is updated for the given province or country. (Not standardised)\n",
    "Confirmed - Cumulative number of confirmed cases till that date\n",
    "Deaths - Cumulative number of of deaths till that date\n",
    "Recovered - Cumulative number of recovered cases till that date\n",
    "Apart from that these two files have individual level information\n",
    "\n",
    "COVIDopenlinelistdata.csv\n",
    "This file is originally obtained from this link\n",
    "\n",
    "COVID19linelist_data.csv\n",
    "This files is originally obtained from this link\n",
    "\n",
    "Country level datasets\n",
    "If you are interested in knowing country level data, please refer to the following Kaggle datasets:\n",
    "South Korea - https://www.kaggle.com/kimjihoo/coronavirusdataset\n",
    "Italy -\n",
    "https://www.kaggle.com/sudalairajkumar/covid19-in-italy\n",
    "\n",
    "Acknowledgements\n",
    "Johns Hopkins University for making the data available for educational and academic research purposes\n",
    "MoBS lab - https://www.mobs-lab.org/2019ncov.html\n",
    "World Health Organization (WHO): https://www.who.int/\n",
    "DXY.cn. Pneumonia. 2020. http://3g.dxy.cn/newh5/view/pneumonia.\n",
    "BNO News: https://bnonews.com/index.php/2020/02/the-latest-coronavirus-cases/\n",
    "National Health Commission of the People’s Republic of China (NHC):\n",
    "http://www.nhc.gov.cn/xcs/yqtb/list_gzbd.shtml\n",
    "China CDC (CCDC): http://weekly.chinacdc.cn/news/TrackingtheEpidemic.htm\n",
    "Hong Kong Department of Health: https://www.chp.gov.hk/en/features/102465.html\n",
    "Macau Government: https://www.ssm.gov.mo/portal/\n",
    "Taiwan CDC: https://sites.google.com/cdc.gov.tw/2019ncov/taiwan?authuser=0\n",
    "US CDC: https://www.cdc.gov/coronavirus/2019-ncov/index.html\n",
    "Government of Canada: https://www.canada.ca/en/public-health/services/diseases/coronavirus.html\n",
    "Australia Government Department of Health: https://www.health.gov.au/news/coronavirus-update-at-a-glance\n",
    "European Centre for Disease Prevention and Control (ECDC): https://www.ecdc.europa.eu/en/geographical-distribution-2019-ncov-cases\n",
    "Ministry of Health Singapore (MOH): https://www.moh.gov.sg/covid-19\n",
    "Italy Ministry of Health: http://www.salute.gov.it/nuovocoronavirus\n",
    "\n",
    "Inspiration\n",
    "Some useful insights that could be extracted from the dataset can be:\n",
    "\n",
    "The origin of the individuals who were in Wuhan before the outbreak (first confirmed case).\n",
    "Were men or women the most exposed?\n",
    "What are the headlines in the newspapers and what are the different sources?\n",
    "The most observed symptoms?"
   ]
  },
  {
   "cell_type": "markdown",
   "metadata": {},
   "source": [
    "# A Look at the Data\n",
    "In order to get a better understanding of the data we will be looking at throughout, let's take a look at some of the characteristics of the dataset.\n",
    "\n",
    "First, let's read in the data and necessary libraries."
   ]
  },
  {
   "cell_type": "code",
   "execution_count": 108,
   "metadata": {},
   "outputs": [
    {
     "data": {
      "text/html": [
       "<div>\n",
       "<style scoped>\n",
       "    .dataframe tbody tr th:only-of-type {\n",
       "        vertical-align: middle;\n",
       "    }\n",
       "\n",
       "    .dataframe tbody tr th {\n",
       "        vertical-align: top;\n",
       "    }\n",
       "\n",
       "    .dataframe thead th {\n",
       "        text-align: right;\n",
       "    }\n",
       "</style>\n",
       "<table border=\"1\" class=\"dataframe\">\n",
       "  <thead>\n",
       "    <tr style=\"text-align: right;\">\n",
       "      <th></th>\n",
       "      <th>id</th>\n",
       "      <th>case_in_country</th>\n",
       "      <th>reporting_date</th>\n",
       "      <th>summary</th>\n",
       "      <th>location</th>\n",
       "      <th>country</th>\n",
       "      <th>gender</th>\n",
       "      <th>age</th>\n",
       "      <th>symptom_onset</th>\n",
       "      <th>If_onset_approximated</th>\n",
       "      <th>...</th>\n",
       "      <th>recovered</th>\n",
       "      <th>symptom</th>\n",
       "      <th>source</th>\n",
       "      <th>link</th>\n",
       "      <th>Unnamed: 20</th>\n",
       "      <th>Unnamed: 21</th>\n",
       "      <th>Unnamed: 22</th>\n",
       "      <th>Unnamed: 23</th>\n",
       "      <th>Unnamed: 24</th>\n",
       "      <th>Unnamed: 25</th>\n",
       "    </tr>\n",
       "  </thead>\n",
       "  <tbody>\n",
       "    <tr>\n",
       "      <th>1</th>\n",
       "      <td>NaN</td>\n",
       "      <td>1/20/2020</td>\n",
       "      <td>NaN</td>\n",
       "      <td>First confirmed imported COVID-19 pneumonia pa...</td>\n",
       "      <td>Shenzhen, Guangdong</td>\n",
       "      <td>China</td>\n",
       "      <td>male</td>\n",
       "      <td>66.0</td>\n",
       "      <td>01/03/20</td>\n",
       "      <td>0.0</td>\n",
       "      <td>...</td>\n",
       "      <td>0</td>\n",
       "      <td>NaN</td>\n",
       "      <td>Shenzhen Municipal Health Commission</td>\n",
       "      <td>http://wjw.sz.gov.cn/wzx/202001/t20200120_1898...</td>\n",
       "      <td>NaN</td>\n",
       "      <td>NaN</td>\n",
       "      <td>NaN</td>\n",
       "      <td>NaN</td>\n",
       "      <td>NaN</td>\n",
       "      <td>NaN</td>\n",
       "    </tr>\n",
       "    <tr>\n",
       "      <th>2</th>\n",
       "      <td>NaN</td>\n",
       "      <td>1/20/2020</td>\n",
       "      <td>NaN</td>\n",
       "      <td>First confirmed imported COVID-19 pneumonia pa...</td>\n",
       "      <td>Shanghai</td>\n",
       "      <td>China</td>\n",
       "      <td>female</td>\n",
       "      <td>56.0</td>\n",
       "      <td>1/15/2020</td>\n",
       "      <td>0.0</td>\n",
       "      <td>...</td>\n",
       "      <td>0</td>\n",
       "      <td>NaN</td>\n",
       "      <td>Official Weibo of Shanghai Municipal Health Co...</td>\n",
       "      <td>https://www.weibo.com/2372649470/IqogQhgfa?fro...</td>\n",
       "      <td>NaN</td>\n",
       "      <td>NaN</td>\n",
       "      <td>NaN</td>\n",
       "      <td>NaN</td>\n",
       "      <td>NaN</td>\n",
       "      <td>NaN</td>\n",
       "    </tr>\n",
       "    <tr>\n",
       "      <th>3</th>\n",
       "      <td>NaN</td>\n",
       "      <td>1/21/2020</td>\n",
       "      <td>NaN</td>\n",
       "      <td>First confirmed imported cases in Zhejiang: pa...</td>\n",
       "      <td>Zhejiang</td>\n",
       "      <td>China</td>\n",
       "      <td>male</td>\n",
       "      <td>46.0</td>\n",
       "      <td>01/04/20</td>\n",
       "      <td>0.0</td>\n",
       "      <td>...</td>\n",
       "      <td>0</td>\n",
       "      <td>NaN</td>\n",
       "      <td>Health Commission of Zhejiang Province</td>\n",
       "      <td>http://www.zjwjw.gov.cn/art/2020/1/21/art_1202...</td>\n",
       "      <td>NaN</td>\n",
       "      <td>NaN</td>\n",
       "      <td>NaN</td>\n",
       "      <td>NaN</td>\n",
       "      <td>NaN</td>\n",
       "      <td>NaN</td>\n",
       "    </tr>\n",
       "    <tr>\n",
       "      <th>4</th>\n",
       "      <td>NaN</td>\n",
       "      <td>1/21/2020</td>\n",
       "      <td>NaN</td>\n",
       "      <td>new confirmed imported COVID-19 pneumonia in T...</td>\n",
       "      <td>Tianjin</td>\n",
       "      <td>China</td>\n",
       "      <td>female</td>\n",
       "      <td>60.0</td>\n",
       "      <td>NaN</td>\n",
       "      <td>NaN</td>\n",
       "      <td>...</td>\n",
       "      <td>0</td>\n",
       "      <td>NaN</td>\n",
       "      <td>人民日报官方微博</td>\n",
       "      <td>https://m.weibo.cn/status/4463235401268457?</td>\n",
       "      <td>NaN</td>\n",
       "      <td>NaN</td>\n",
       "      <td>NaN</td>\n",
       "      <td>NaN</td>\n",
       "      <td>NaN</td>\n",
       "      <td>NaN</td>\n",
       "    </tr>\n",
       "    <tr>\n",
       "      <th>5</th>\n",
       "      <td>NaN</td>\n",
       "      <td>1/21/2020</td>\n",
       "      <td>NaN</td>\n",
       "      <td>new confirmed imported COVID-19 pneumonia in T...</td>\n",
       "      <td>Tianjin</td>\n",
       "      <td>China</td>\n",
       "      <td>male</td>\n",
       "      <td>58.0</td>\n",
       "      <td>NaN</td>\n",
       "      <td>NaN</td>\n",
       "      <td>...</td>\n",
       "      <td>0</td>\n",
       "      <td>NaN</td>\n",
       "      <td>人民日报官方微博</td>\n",
       "      <td>https://m.weibo.cn/status/4463235401268457?</td>\n",
       "      <td>NaN</td>\n",
       "      <td>NaN</td>\n",
       "      <td>NaN</td>\n",
       "      <td>NaN</td>\n",
       "      <td>NaN</td>\n",
       "      <td>NaN</td>\n",
       "    </tr>\n",
       "  </tbody>\n",
       "</table>\n",
       "<p>5 rows × 26 columns</p>\n",
       "</div>"
      ],
      "text/plain": [
       "   id case_in_country  reporting_date  \\\n",
       "1 NaN       1/20/2020             NaN   \n",
       "2 NaN       1/20/2020             NaN   \n",
       "3 NaN       1/21/2020             NaN   \n",
       "4 NaN       1/21/2020             NaN   \n",
       "5 NaN       1/21/2020             NaN   \n",
       "\n",
       "                                             summary             location  \\\n",
       "1  First confirmed imported COVID-19 pneumonia pa...  Shenzhen, Guangdong   \n",
       "2  First confirmed imported COVID-19 pneumonia pa...             Shanghai   \n",
       "3  First confirmed imported cases in Zhejiang: pa...             Zhejiang   \n",
       "4  new confirmed imported COVID-19 pneumonia in T...              Tianjin   \n",
       "5  new confirmed imported COVID-19 pneumonia in T...              Tianjin   \n",
       "\n",
       "  country  gender   age symptom_onset  If_onset_approximated     ...      \\\n",
       "1   China    male  66.0      01/03/20                    0.0     ...       \n",
       "2   China  female  56.0     1/15/2020                    0.0     ...       \n",
       "3   China    male  46.0      01/04/20                    0.0     ...       \n",
       "4   China  female  60.0           NaN                    NaN     ...       \n",
       "5   China    male  58.0           NaN                    NaN     ...       \n",
       "\n",
       "  recovered symptom                                             source  \\\n",
       "1         0     NaN               Shenzhen Municipal Health Commission   \n",
       "2         0     NaN  Official Weibo of Shanghai Municipal Health Co...   \n",
       "3         0     NaN             Health Commission of Zhejiang Province   \n",
       "4         0     NaN                                           人民日报官方微博   \n",
       "5         0     NaN                                           人民日报官方微博   \n",
       "\n",
       "                                                link  Unnamed: 20 Unnamed: 21  \\\n",
       "1  http://wjw.sz.gov.cn/wzx/202001/t20200120_1898...          NaN         NaN   \n",
       "2  https://www.weibo.com/2372649470/IqogQhgfa?fro...          NaN         NaN   \n",
       "3  http://www.zjwjw.gov.cn/art/2020/1/21/art_1202...          NaN         NaN   \n",
       "4        https://m.weibo.cn/status/4463235401268457?          NaN         NaN   \n",
       "5        https://m.weibo.cn/status/4463235401268457?          NaN         NaN   \n",
       "\n",
       "  Unnamed: 22 Unnamed: 23 Unnamed: 24 Unnamed: 25  \n",
       "1         NaN         NaN         NaN         NaN  \n",
       "2         NaN         NaN         NaN         NaN  \n",
       "3         NaN         NaN         NaN         NaN  \n",
       "4         NaN         NaN         NaN         NaN  \n",
       "5         NaN         NaN         NaN         NaN  \n",
       "\n",
       "[5 rows x 26 columns]"
      ]
     },
     "execution_count": 108,
     "metadata": {},
     "output_type": "execute_result"
    }
   ],
   "source": [
    "import numpy as np\n",
    "import pandas as pd\n",
    "import matplotlib.pyplot as plt\n",
    "import seaborn as sns\n",
    "%matplotlib inline\n",
    "\n",
    "df = pd.read_csv('COVID.csv')\n",
    "df.head()"
   ]
  },
  {
   "cell_type": "markdown",
   "metadata": {},
   "source": [
    "* Provide the number of rows and columns in this dataset."
   ]
  },
  {
   "cell_type": "code",
   "execution_count": 39,
   "metadata": {},
   "outputs": [
    {
     "name": "stdout",
     "output_type": "stream",
     "text": [
      "1085 rows in the dataset | 26 columns in the dataset\n"
     ]
    }
   ],
   "source": [
    "num_rows = df.shape[0] #Provide the number of rows in the dataset\n",
    "num_cols = df.shape[1] #Provide the number of columns in the dataset\n",
    "\n",
    "print(num_rows,'rows in the dataset','|',num_cols, 'columns in the dataset') "
   ]
  },
  {
   "cell_type": "markdown",
   "metadata": {},
   "source": [
    "* Which columns had no missing values? Provide a set of column names that have no missing values"
   ]
  },
  {
   "cell_type": "code",
   "execution_count": 40,
   "metadata": {},
   "outputs": [
    {
     "name": "stdout",
     "output_type": "stream",
     "text": [
      "{'country', 'source', 'recovered', 'visiting_Wuhan', 'death', 'location', 'link'}\n"
     ]
    }
   ],
   "source": [
    "no_nulls = set(df.columns[df.isnull().mean()==0])#Provide a set of columns with 0 missing values.\n",
    "\n",
    "print(no_nulls)"
   ]
  },
  {
   "cell_type": "markdown",
   "metadata": {},
   "source": [
    "* Which columns have the most missing values? Provide a set of column name that have more than 75% if their values missing."
   ]
  },
  {
   "cell_type": "code",
   "execution_count": 41,
   "metadata": {},
   "outputs": [
    {
     "name": "stdout",
     "output_type": "stream",
     "text": [
      "{'Unnamed: 25', 'Unnamed: 21', 'exposure_start', 'Unnamed: 20', 'Unnamed: 23', 'Unnamed: 24', 'Unnamed: 22', 'reporting_date', 'symptom'}\n"
     ]
    }
   ],
   "source": [
    "most_missing_cols = set(df.columns[df.isnull().mean() > 0.75])#Provide a set of columns with more than 75% of the values missing\n",
    "\n",
    "print(most_missing_cols)"
   ]
  },
  {
   "cell_type": "markdown",
   "metadata": {},
   "source": [
    " * Provide a pandas series of the different county values in the dataset. Store this pandas series in origin_vals. If you are correct, you should see a bar chart of the proportion of origin of individuals."
   ]
  },
  {
   "cell_type": "code",
   "execution_count": 43,
   "metadata": {},
   "outputs": [
    {
     "data": {
      "image/png": "[encoded data removed]",
      "text/plain": [
       "<Figure size 432x288 with 1 Axes>"
      ]
     },
     "metadata": {},
     "output_type": "display_data"
    }
   ],
   "source": [
    "origin_vals = df.country.value_counts()#Provide a pandas series of the counts for each Country\n",
    "\n",
    "(status_vals/df.shape[0]).plot(kind=\"bar\");\n",
    "plt.title(\"where are you from ?\");"
   ]
  },
  {
   "cell_type": "markdown",
   "metadata": {},
   "source": [
    "* Provide a pandas series of the different gender values in the dataset. Store this pandas series in gender_vals."
   ]
  },
  {
   "cell_type": "code",
   "execution_count": 47,
   "metadata": {
    "scrolled": true
   },
   "outputs": [
    {
     "data": {
      "image/png": "[encoded data removed]",
      "text/plain": [
       "<Figure size 432x288 with 1 Axes>"
      ]
     },
     "metadata": {},
     "output_type": "display_data"
    }
   ],
   "source": [
    "gender_vals = df.gender.value_counts()#Provide a pandas series of the counts for each Gender\n",
    "\n",
    "(gender_vals/df.shape[0]).plot(kind=\"bar\");\n",
    "plt.title(\"Gender?\");"
   ]
  },
  {
   "cell_type": "code",
   "execution_count": 154,
   "metadata": {},
   "outputs": [
    {
     "data": {
      "text/html": [
       "<div>\n",
       "<style scoped>\n",
       "    .dataframe tbody tr th:only-of-type {\n",
       "        vertical-align: middle;\n",
       "    }\n",
       "\n",
       "    .dataframe tbody tr th {\n",
       "        vertical-align: top;\n",
       "    }\n",
       "\n",
       "    .dataframe thead th {\n",
       "        text-align: right;\n",
       "    }\n",
       "</style>\n",
       "<table border=\"1\" class=\"dataframe\">\n",
       "  <thead>\n",
       "    <tr style=\"text-align: right;\">\n",
       "      <th></th>\n",
       "      <th></th>\n",
       "      <th>visiting_Wuhan</th>\n",
       "    </tr>\n",
       "    <tr>\n",
       "      <th>gender</th>\n",
       "      <th>summary</th>\n",
       "      <th></th>\n",
       "    </tr>\n",
       "  </thead>\n",
       "  <tbody>\n",
       "    <tr>\n",
       "      <th rowspan=\"8\" valign=\"top\">female</th>\n",
       "      <th>new confirmed COVID-19 patient in Toronto, Canada: female, 20s, travelled to Wuhan before it was quarantined, then went elsewhere before returning 2/21</th>\n",
       "      <td>1</td>\n",
       "    </tr>\n",
       "    <tr>\n",
       "      <th>new confirmed COVID-19 patient in Toronto, Canada: female, 60s, travel history to Iran, went to hospital on 2/24</th>\n",
       "      <td>0</td>\n",
       "    </tr>\n",
       "    <tr>\n",
       "      <th>new confirmed COVID-19 patient in Toronto, Canada: female, in her 20s, arrived on 1/23/2020 from Wuhan, went to hospital on 1/24/2020 but tested negative, symptom onset 1/24/2020</th>\n",
       "      <td>1</td>\n",
       "    </tr>\n",
       "    <tr>\n",
       "      <th>new confirmed COVID-19 patient in Toronto, Canada: female, in her 50s, has been in self-isolation at home since husband confirmed, arrived on 1/22/2020 after visiting Wuhan</th>\n",
       "      <td>1</td>\n",
       "    </tr>\n",
       "    <tr>\n",
       "      <th>new confirmed COVID-19 patient in Vancouver, Canada: female, 30s, related to case 5, visitors from Wuhan</th>\n",
       "      <td>0</td>\n",
       "    </tr>\n",
       "    <tr>\n",
       "      <th>new confirmed COVID-19 patient in Vancouver, Canada: female, 30s, returned from Iran</th>\n",
       "      <td>0</td>\n",
       "    </tr>\n",
       "    <tr>\n",
       "      <th>new confirmed COVID-19 patient in Vancouver, Canada: female, 30s, returned from Shanghai</th>\n",
       "      <td>0</td>\n",
       "    </tr>\n",
       "    <tr>\n",
       "      <th>new confirmed COVID-19 patient in Vancouver, Canada: female, 50s</th>\n",
       "      <td>0</td>\n",
       "    </tr>\n",
       "    <tr>\n",
       "      <th rowspan=\"4\" valign=\"top\">male</th>\n",
       "      <th>new confirmed COVID-19 patient in Toronto, Canada: male, 56, tested positive at provincial facility days after returning to Toronto from Wuhan via Guangzhou on 1/22/2020, mild symptoms on flight, a day after he went home a family member reported he felt ill, fever, cough, symptom onset 1/23</th>\n",
       "      <td>1</td>\n",
       "    </tr>\n",
       "    <tr>\n",
       "      <th>new confirmed COVID-19 patient in Vancouver, Canada: male, 30s, related to case 5, visitors from Wuhan</th>\n",
       "      <td>0</td>\n",
       "    </tr>\n",
       "    <tr>\n",
       "      <th>new confirmed COVID-19 patient in Vancouver, Canada: male, 40s, close contact of case 9</th>\n",
       "      <td>0</td>\n",
       "    </tr>\n",
       "    <tr>\n",
       "      <th>new confirmed COVID-19 patient in Vancouver, Canada: male, in his 40s, home isolation and not hospitalized, was in Wuhan for work, returned to Vancouver last week, onset of symptoms after return, contacted primary care physician 1/26/2020</th>\n",
       "      <td>1</td>\n",
       "    </tr>\n",
       "  </tbody>\n",
       "</table>\n",
       "</div>"
      ],
      "text/plain": [
       "                                                           visiting_Wuhan\n",
       "gender summary                                                           \n",
       "female new confirmed COVID-19 patient in Toronto, Cana...               1\n",
       "       new confirmed COVID-19 patient in Toronto, Cana...               0\n",
       "       new confirmed COVID-19 patient in Toronto, Cana...               1\n",
       "       new confirmed COVID-19 patient in Toronto, Cana...               1\n",
       "       new confirmed COVID-19 patient in Vancouver, Ca...               0\n",
       "       new confirmed COVID-19 patient in Vancouver, Ca...               0\n",
       "       new confirmed COVID-19 patient in Vancouver, Ca...               0\n",
       "       new confirmed COVID-19 patient in Vancouver, Ca...               0\n",
       "male   new confirmed COVID-19 patient in Toronto, Cana...               1\n",
       "       new confirmed COVID-19 patient in Vancouver, Ca...               0\n",
       "       new confirmed COVID-19 patient in Vancouver, Ca...               0\n",
       "       new confirmed COVID-19 patient in Vancouver, Ca...               1"
      ]
     },
     "execution_count": 154,
     "metadata": {},
     "output_type": "execute_result"
    }
   ],
   "source": [
    "pd.DataFrame(df.query(\"country == 'Canada' and (gender == 'male' or gender == 'female')\").groupby(['gender', 'summary']).mean()['visiting_Wuhan'])"
   ]
  },
  {
   "cell_type": "markdown",
   "metadata": {},
   "source": [
    "* Write a function called get_description that takes the df dataframe and the column as a string, and returns a string of the description for that column."
   ]
  },
  {
   "cell_type": "code",
   "execution_count": 77,
   "metadata": {},
   "outputs": [
    {
     "data": {
      "text/plain": [
       "'First confirmed imported COVID-19 pneumonia patient in Shenzhen (from Wuhan): male, 66, shenzheng residence, visited relatives in Wuhan on 12/29/2019, symptoms onset on 01/03/2020, returned to Shenzhen and seek medical care on 01/04/2020, hospitalized on 01/11/2020, sample sent to China CDC for testing on 01/18/2020, confirmed on 01/19/2020. 8 others under medical observation, contact tracing ongoing.'"
      ]
     },
     "execution_count": 77,
     "metadata": {},
     "output_type": "execute_result"
    }
   ],
   "source": [
    "def get_description(column_name, df=df):\n",
    "    '''\n",
    "    INPUT - schema - pandas dataframe with the df \n",
    "            column_name - string - the name of the column you would like to know about\n",
    "    OUTPUT - \n",
    "            desc - string - the description of the column\n",
    "    '''\n",
    "    desc = list(df[df['source'] == column_name]['summary'])[0]\n",
    "    return desc\n",
    "\n",
    "get_description(df.source[1]) # This should return a string of the first summary column description"
   ]
  },
  {
   "cell_type": "code",
   "execution_count": 78,
   "metadata": {},
   "outputs": [
    {
     "name": "stdout",
     "output_type": "stream",
     "text": [
      "{'new confirmed COVID-19 patient in Japan: male, 30s, returned to Wuhan on third flight 1/31/2020, no symptoms', 'First confirmed imported cases in Zhejiang: patient is male, 46, lives in Wuhan, self-driving from Wuhan to Hangzhou on 01/03/2020, symptom onset 01/04/2020, hospitalized on 01/17/2020, sample deliver to China CDC for testing on 01/20/2020, test positive on 01/21/2020.', 'new confirmed imported COVID-19 pneumonia patient in Beijing: male, 37, visited Wuhan on 01/10/2020, return to Beijing on 01/11/2020, symptoms onset on 01/14/2020, hospitalized on 01/20/2020.', 'new confirmed COVID-19 patient in Hong Kong: male, 80, visited Shenzhen for a few hours on 1/10/2020, flight to Japan on 1/17/2020 and returned to HK on cruise on 1/25/2020, symptom onset 1/19/2020, hospitalized on 1/30/2020 for high fever', 'new confirmed COVID-19 patient in Hong Kong: female, 55, aunt of 2/9-No.1, had hot pot with him on 1/26, lives in Sha Tin, symptom onset 1/30 (fever, cough, runny nose), went to doctor 1/30, admitted to hospital 2/9', 'new confirmed COVID-19 patient in South Korea: 1/30-No.1, male, 32, visited Wuhan and returned to 1/24/2020, no symptom on arrival', 'new confirmed COVID-19 patient in Rome, Italy: male, Chinese tourist, arrived in Milan over a week ago', 'new confirmed COVID-19 patient in Hong Kong: 1/24-No.1, married to 1/27-No.1, female, 62, lives in Wuhan, travelled from Wuhan to Shenzhenbei and then Hong Kong by train on 1/19/2020, symptom onset 1/20/2020 (fever, cough), hospitalized 1/23/2020, admitted for isolation 1/24/2020', 'new confirmed COVID-19 patient in Vietnam: male, 30, Vinh Phuc, returned from Wuhan for training, returned 1/17', 'new confirmed COVID-19 patient in Japan: male, in his 30s, Kanagawa resident, symptom onset 1/3/2020 in Wuhan (fever), returned to Japan 1/6/2020 and hospitalized, went to medical institution on 1/6/2020 and hospitalized 1/10/2020, recovered and discharged on 1/15/2020, in close contact with infected people', 'new confirmed COVID-19 patient in Taiwan: male, in his 50s, evacuated from Wuhan on 2/4, hospitalized', 'new confirmed COVID-19 patient in US: male, in his 30s, confirmed sick in Sohomish County, Washington, visited Wuhan, returned to the US on 1/15/2020, sought treatment at urgent care center 1/23/2020', 'new confirmed COVID-19 patient in Iran: Qom', 'new confirmed COVID-19 patient in Germany: another child of employee', 'new confirmed COVID-19 patient in Israel: female, returned 1/21 after being quarantined on cruise ship', 'new confirmed COVID-19 patient in US: male, in his 60s, husband of 1/24-No.1, Chicago, admitted to hospital 1/28/2020, symptom onset 1/28/2020', 'new confirmed COVID-19 patient in Taiwan: female, 55, works in Wuhan, arrived in Taiwan 1/20/2020, symptomatic (fever, cough, shortness of breath) on arrival, symptom onset 1/11/2020, confirmed 1/21/2020', 'First confirmed imported COVID-19 pneumonia patient in Shenzhen (from Wuhan): male, 66, shenzheng residence, visited relatives in Wuhan on 12/29/2019, symptoms onset on 01/03/2020, returned to Shenzhen and seek medical care on 01/04/2020, hospitalized on 01/11/2020, sample sent to China CDC for testing on 01/18/2020, confirmed on 01/19/2020. 8 others under medical observation, contact tracing ongoing.', 'new confirmed COVID-19 patient in France: female, 33, Chinese woman who recently returned from China, hospitalized in Paris', 'new confirmed COVID-19 patient in US: Wisconsin, came into contact with someone infected while traveling in China', 'new confirmed COVID-19 patient in Philippines: male, 44, from Wuhan, admitted to hospital on 1/25/2020 in Manila with fever, cough, and sore throat, died 2/1/2020, arrived 1/21/2020', 'new confirmed imported COVID-19 pneumonia patient 01/27-No.1 in Shaanxi: female, 36, Wuhan resident, flight to Xian, Shanxi on 01/21/2020, symptom onset on the plane, visited hospital on 01/25/2020, confirmed on 01/27/2020.', 'new confirmed COVID-19 patient in Lebanon: female, 45, arrived from Qom, Iran 1/20', 'new confirmed COVID-19 patient in France: 9, in contact with Briton who had been in Singapore and was positive', 'new confirmed COVID-19 patient in Nepal: male, 32, studying in Wuhan, arrived in Nepal 1/13/2020 from China, visited Kathmandu hospital (fever, breathing problems) 1/13/2020, discharged, symptom onset 1/3 (cough), discharged 1/17', \"new confirmed COVID-19 patient in Finland: female, 32, Chinese traveler from Wuhan, in isolation at Lapland's hospital, arrived in Finland 1/23/2020 and left Wuhan 1/22/2020, symptom onset 1/26/2020 (fever), hospitalized 1/28/2020\", 'new confirmed COVID-19 patient in Vancouver, Canada: female, 50s', 'new confirmed COVID-19 patient in South Korea: male, 55, arrived at Gimpo International Airport 1/22/2020, works in Wuhan, visited Chinese clinic 1/19/2020 after suffering from sore throat and other symptoms, symptom onset 1/10/2020, confirmed 1/23/2020, recovered 2/4/2020', 'First confirmed imported COVID-19 pneumonia patient in Fujian: male, 70, works in Wuhan, return to Fujian on 01/17/2020, visit clinic on 01/20/2020.', 'new confirmed COVID-19 patient in US: California, first case of community transmission, went to medical center 2/19, arrived from another hospital', 'new confirmed COVID-19 patient in Kuwait: returned from Iran', 'new confirmed COVID-19 patient in Paris, France: 1/28-No.1, male, 80, hospitalized in Paris on 1/25/2020 for fever, \"severe\", visiting France from Hubei province, arrived on 1/23/2020', 'Death from COVID-19 pneumonia in Wuhan: male, 61, symptom onset on 12/20/2019, hospitalized on 12/27/2019, death on 01/09/2020.', 'new confirmed COVID-19 patient in York, UK: 1/31-No.1, Chinese national, taken to infirmary', 'new confirmed COVID-19 patient in Singapore: 1/24-No.1, male, 66, Wuhan resident, arrived in Singapore 1/20/2020, symptom onset 1/21/2020 (fever and cough), hospitalized 1/22/2020, confirmed 1/23/2020.', 'new confirmed COVID-19 patient in Kerala, India: female, student at Wuhan University, isolated in hospital', 'new confirmed COVID-19 patient in Malaysia: female, 4, hospitalized in Langkawi, arrived on 1/20, developed fever, cough, flu, went to hospital 1/26', 'new confirmed COVID-19 patient in France: in contact with Briton who had been in Singapore and was positive', 'new confirmed COVID-19 patient in Iran: died, in Qom', 'new confirmed COVID-19 patient in Germany: male, 60, father of case 19, Baden-Wurttemberg', 'new confirmed COVID-19 patient in UAE: arrived from Wuhan', 'new confirmed COVID-19 patient in Toronto, Canada: female, in her 50s, has been in self-isolation at home since husband confirmed, arrived on 1/22/2020 after visiting Wuhan', 'new confirmed COVID-19 patient in Taiwan: male, 60s, symptom onset 1/27 (cough, shortness of breath), went to hospital 2/3, diagnosed with pneumonia, hospitalized 2/3, died 2/15', 'new confirmed COVID-19 patient in Japan: male, in his 40s, Wuhan resident, developed pneumonia and in hospital in Aichi, arrived 1/20/2020, symptom onset 1/22/2020 (fever), visited medical institution in Aichi Prefecture on 1/26/2020', 'new confirmed COVID-19 patient in UAE: female, 73, 1/29-No.1 (grandmother), arrived as tourists 1/16/2020, symptom onset 1/23/2020, sought medical help', 'new confirmed COVID-19 patient in Paris, France: male, 31, Wuhan resident, arrived in France 01/18/2020, symptom onset on 01/19/2020, hospitalized 01/25/2020.', 'new confirmed COVID-19 patient in Japan: female, in her 30s, Wuhan resident, arrived in Japan 01/18/2020, symptom onset on 01/21/2020 (fever, coughing), confirmed 1/23/2020 but not hospitalized (only minor symptoms), visited medical institution in Tokyo on 1/23/2020', 'new COVID-19 patient confirmed in Austria: 24, Innsbruck, from Lombardy', 'new confirmed COVID-19 patient in UAE: Filipino national, 34', 'new confirmed COVID-19 patient in Spain: female, Tenerife, traveled to Italy between 2/4-2/8', 'new confirmed COVID-19 patient in Hong Kong: 1/31-No.1, male, 39, lives in Kowloon, symptom onset 1/31/2020 (myalgia, fever), hospitalized 1/31/2020 and admitted for isolation and treatment, took train from Hong Kong to Wuhan on 1/21/2020 and from Changsha to Hong Kong on 1/23/2020, died 2/4/2020', 'new confirmed COVID-19 patient in Germany: male, 25, took trip to Milan, admitted to hospital 2/24, Baden-Wurttemberg', 'new confirmed COVID-19 patient in Toronto, Canada: male, 56, tested positive at provincial facility days after returning to Toronto from Wuhan via Guangzhou on 1/22/2020, mild symptoms on flight, a day after he went home a family member reported he felt ill, fever, cough, symptom onset 1/23', 'new confirmed COVID-19 patient in Vietnam: male, 50, Vinh Phuc, lives with daughter who was sent to Wuhan for training and confirmed to be infected, symptom onset 2/11 (tired)', 'new confirmed COVID-19 patient in Singapore: male, 31, Chinese national, evacuated from Wuhan on 1/26/2020, asymptomatic on flight by symptom onset 1/28/2020, went to clinic on 1/30/2020', 'new confirmed COVID-19 patient in Sweden: female, in her 20s, in Jonkoping county who had visited Wuhan, landed in Sweden 1/24/2020, a few days later developed cough and contacted local hospital,', 'new confirmed COVID-19 patient in Queensland, Australia: 1/29-No.1, 44, Chinese National, currently in hospital, travelled from Melbourne to the Gold Coast 1/27/2020, symptom onset and hospitalized 1/28/2020', 'new confirmed imported COVID-19 pneumonia in Tianjin: female, age 60, recently visited Wuhan, visited fever clinic on 01/19/2020 in Tianjin then quarantined immediately.', 'First confirmed imported COVID-19 pneumonia patient in Inner Mongolia: male, 30, Wuhan resident, arrived in Inner Mongolia from Wuhan on 01/21/2020, hospitalized on 01/20/2020.', 'First confirmed imported COVID-19 pneumonia patient in Sichuan (from Wuhan): Male, 34 years old, works in Wuhan, symptoms onset on 01/11/2020 in Chengdu.', 'new confirmed COVID-19 patient in South Korea: female, 35, Wuhan resident, arrived in Incheon international airport on 1/19/2020, isolated on entering South Korea with symptoms, symptom onset 1/18/2020 (high fever, chills, muscle pain), discharged 2/6', 'new confirmed COVID-19 patient in Hong kong: male, 54, went to doctor on 2/7, hospital on 2/10', 'new confirmed COVID-19 patient in Germany: male, worked at same company', 'new confirmed COVID-19 patient in Cambodia: male, 60, arrived from Wuhan 1/23/2020, Chinese national, symptom onset 1/25/2020 (fever and runny nose), confirmed 1/27/2020', 'new confirmed COVID-19 patient in Hong Kong: married to 2/5-No.1, female, 55, in hospital in Kwai Chung, in Japan 1/28 and returned 2/1, symptom onset 2/1 (sore throat, fever, diarrhea), consulted private doctor on 2/2/2020, visited hospital on 2/4 with husband, admitted 2/5', 'new confirmed COVID-19 patient in Japan: male, in his 50s, arrived on first evacuation flight from China on 1/29/2020 from Wuhan, treated in special medical faculity, symptoms (throat pain, fever), Wuhan resident, symptom onset 1/29/2020', 'new confirmed COVID-19 patient in Germany: contact of cases 21 and 22, NRW', 'new confirmed COVID-19 patient in London, UK: 2/6-No.1, male, 53, caught in Singapore from 1/20-1/22, stayed at French resort between 1/24-1/28', 'new confirmed COVID-19 patient in South Korea: 1/25-No.1, male, 54, visited Wuhan, arrived on 1/20/2020, symptom onset 1/22/2020 (fever, chills, muscle cramps), contacted health authorities and placed in isolation 1/25/2020, worked at \"The Place\" clothing store', 'new confirmed COVID-19 patient in UK: contracted virus in Tenerife', 'First confirmed imported COVID-19 pneumonia patient in Chongqing (from Wuhan): female, age 44, symptoms onset on 01/15/2020, laboratory confirmed on 01/21/2020.', 'new confirmed COVID-19 patient in NSW, Australia: male, 35, arrived in Sydney from Shenzhen on 1/6/2020, symptom onset 1/15/2020, did not visit Wuhan but had contact with a person from Wuhan diagnosed with the coronavirus', 'new confirmed COVID-19 patient in South Australia: male, 60, from Wuhan, now hospitalized, arrived on 1/21/2020', 'new confirmed COVID-19 patient in Toronto, Canada: female, 60s, travel history to Iran, went to hospital on 2/24', 'new confirmed COVID-19 patient in Japan: female, in her 20s, tour guide, no symptoms, on a bus driven by 1/28-No.1, lives in Chiba Prefecture, symptom onset 1/20/2020 (cough, runny nose), went to medical instution on 1/29/2020, joined tour on 1/17-1/22 as bus guide', 'new confirmed COVID-19 patient in Japan: male, in his 40s, evacuated from Wuhan 1/31/2020', 'new confirmed COVID-19 patient in France: female, 60, married to case 14', 'new confirmed COVID-19 patient in Malaysia: female, 65, wife of Singapore 1/24-No.1, treated in isolation wards in Selangor, light symptoms (dry cough), took plane from Guangzhou to Singapore on 1/20/2020.', 'new confirmed COVID-19 patient in Bordeaux, France: 1/25-No.1, male, 48, French citizen of Chinese origin, visited Wuhan as part of business trip, took plane from Wuhan to Netherlands to France on 1/22/2020, symptom onset on 1/23/2020, went to clinic 1/23/2020, confirmed 1/24/2020. report date 1/25/2020.', 'First confirmed imported COVID-19 pneumonia patient in Shanghai (from Wuhan): female, 56, Wuhan residence, arrived in Shanghai from Wuhan on 01/12/2020, symptom onset and visited fever clinic on 01/15/2020, laboratory confirmed on 01/20/2020', 'new confirmed COVID-19 patient in Queensland, Australia: female, 37, hospital, same member of tour group as four other people in the state', 'new confirmed COVID-19 patient in Japan: male, in his 40s, Wuhan resident, arrived in Japan 1/19/2020, symptom onset 1/14/2020 (fever, sore throat), went to medical institution on 1/15 and 1/17, hospitalized 1/22/2020, confirmed 1/24/2020', 'new confirmed COVID-19 patient in Hong Kong: male, 25, lives in Kowloon City, now in hospital, had not travelled outside Hong Kong, symptom onset 1/28/2020 (cough, runny nose, diarrhea), went to hospital 1/29/2020', 'new confirmed COVID-19 patient in Belgium: evacuated from Wuhan on 2/2', 'new confirmed COVID-19 patient in US: California, evacuated from Wuhan 2/7'}\n"
     ]
    }
   ],
   "source": [
    "descrips = set(get_description(col) for col in df.source)\n",
    "print(descrips)"
   ]
  },
  {
   "cell_type": "raw",
   "metadata": {},
   "source": [
    "* Provide a pandas series of the different **symptom** values in the dataset.  Store this pandas series in **symp_vals**"
   ]
  },
  {
   "cell_type": "code",
   "execution_count": 160,
   "metadata": {},
   "outputs": [
    {
     "data": {
      "text/plain": [
       "fever                                                          0.270370\n",
       "fever, cough                                                   0.133333\n",
       "cough                                                          0.051852\n",
       "fever, malaise                                                 0.025926\n",
       "fever, cough, malaise                                          0.022222\n",
       "fever, sore throat                                             0.022222\n",
       "fever, runny nose                                              0.011111\n",
       "fever, cough, headache                                         0.011111\n",
       "cough, fever                                                   0.011111\n",
       "cough, shortness of breath                                     0.011111\n",
       "fever, cough, sputum                                           0.011111\n",
       "sore throat                                                    0.011111\n",
       "fever, cough, sore throat                                      0.011111\n",
       "fever, pneumonia                                               0.007407\n",
       "feaver, cough, difficult in breathing                          0.007407\n",
       "sore throat, fever                                             0.007407\n",
       "chills                                                         0.007407\n",
       "throat discomfort                                              0.007407\n",
       "cough, malaise, shortness of breath                            0.007407\n",
       "fatigue, fever                                                 0.007407\n",
       "cough, malaise                                                 0.007407\n",
       "fatigue                                                        0.007407\n",
       "cough, sore throat                                             0.007407\n",
       "fever, cough, sputum, dyspnea                                  0.007407\n",
       "fever, headache                                                0.007407\n",
       "throat pain, chills                                            0.003704\n",
       "fever, thirst                                                  0.003704\n",
       "fatigue, malaise, headache                                     0.003704\n",
       "fever, cough, chills                                           0.003704\n",
       "cold, fever, pneumonia                                         0.003704\n",
       "                                                                 ...   \n",
       "cough, itchy throat                                            0.003704\n",
       "fatigue, cold, fever, vomiting                                 0.003704\n",
       "cough, fever, headache, nausea, vomiting, diarrhea             0.003704\n",
       "sore throat, cough, fever                                      0.003704\n",
       "fever, malaise, sore throat                                    0.003704\n",
       "malaise, fever, headache                                       0.003704\n",
       "fever, difficulty breathing                                    0.003704\n",
       "chest discomfort                                               0.003704\n",
       "fever, chills, sore throat, headache                           0.003704\n",
       "fatigue, difficulty breathing                                  0.003704\n",
       "fever, chills, sore throat, runny nose, shortness of breath    0.003704\n",
       "fever, headache, malaise                                       0.003704\n",
       "fever, vomiting, diarrhea                                      0.003704\n",
       "cough, runny nose                                              0.003704\n",
       "myalgia, fever                                                 0.003704\n",
       "cough, joint pain                                              0.003704\n",
       "cough, diarrhea, vomiting                                      0.003704\n",
       "fever, cough, breathlessness                                   0.003704\n",
       "fever, malaise, diarrhea, cough                                0.003704\n",
       "fever, nasal discharge, headache                               0.003704\n",
       "mild fever                                                     0.003704\n",
       "cough, fever, joint pain                                       0.003704\n",
       "headache, fever, malaise                                       0.003704\n",
       "fever, abdominal pain, diarrhea                                0.003704\n",
       "joint pain, muscle pain, cough, malaise                        0.003704\n",
       "sore throat, fever, joint pain, dyspnea                        0.003704\n",
       "fever, cough, sore throat, runny nose                          0.003704\n",
       "fatigue, muscle pain, joint pain, fever                        0.003704\n",
       "fever, cough, sputum, malaise                                  0.003704\n",
       "difficulty breathing                                           0.003704\n",
       "Name: symptom, Length: 108, dtype: float64"
      ]
     },
     "execution_count": 160,
     "metadata": {},
     "output_type": "execute_result"
    }
   ],
   "source": [
    "symp_vals = df.symptom.value_counts(normalize=True)#Provide a pandas series of the counts for each symptom \n",
    "\n",
    "symp_vals # assure this looks right"
   ]
  },
  {
   "cell_type": "markdown",
   "metadata": {},
   "source": [
    "* What can you conclude from the above plot? Change the dictionary to mark True for the keys of any statements you can conclude, and False for any of the statements you cannot conclude."
   ]
  },
  {
   "cell_type": "code",
   "execution_count": 100,
   "metadata": {},
   "outputs": [
    {
     "name": "stdout",
     "output_type": "stream",
     "text": [
      "{'Coronavirus 2019 (COVID-19) is characterized by mild symptoms including sore throat, cough, and fever.': True, 'Is the virus responsible for COVID-19 transmissible by air ?': False, 'It may be more severe in some people and may lead to pneumonia or breathing difficulties.': True, 'Affected individuals may experience the following symptoms |sore|throat|cough|fever| breathing difficulties (severe cases)': True}\n"
     ]
    }
   ],
   "source": [
    "sol = {'Coronavirus 2019 (COVID-19) is characterized by mild symptoms including sore throat, cough, and fever.': True, \n",
    "       'Is the virus responsible for COVID-19 transmissible by air ?': False,\n",
    "       'It may be more severe in some people and may lead to pneumonia or breathing difficulties.': True,\n",
    "      'Affected individuals may experience the following symptoms |sore|throat|cough|fever| breathing difficulties (severe cases)': True}\n",
    "\n",
    "print(sol)"
   ]
  },
  {
   "cell_type": "raw",
   "metadata": {},
   "source": [
    "Now take a look at the summary statistics associated with the quantitative variables in your dataset. "
   ]
  },
  {
   "cell_type": "code",
   "execution_count": 27,
   "metadata": {},
   "outputs": [
    {
     "data": {
      "text/html": [
       "<div>\n",
       "<style scoped>\n",
       "    .dataframe tbody tr th:only-of-type {\n",
       "        vertical-align: middle;\n",
       "    }\n",
       "\n",
       "    .dataframe tbody tr th {\n",
       "        vertical-align: top;\n",
       "    }\n",
       "\n",
       "    .dataframe thead th {\n",
       "        text-align: right;\n",
       "    }\n",
       "</style>\n",
       "<table border=\"1\" class=\"dataframe\">\n",
       "  <thead>\n",
       "    <tr style=\"text-align: right;\">\n",
       "      <th></th>\n",
       "      <th>id</th>\n",
       "      <th>reporting_date</th>\n",
       "      <th>age</th>\n",
       "      <th>If_onset_approximated</th>\n",
       "      <th>visiting_Wuhan</th>\n",
       "      <th>from_Wuhan</th>\n",
       "      <th>Unnamed: 20</th>\n",
       "      <th>Unnamed: 21</th>\n",
       "      <th>Unnamed: 22</th>\n",
       "      <th>Unnamed: 23</th>\n",
       "      <th>Unnamed: 24</th>\n",
       "      <th>Unnamed: 25</th>\n",
       "    </tr>\n",
       "  </thead>\n",
       "  <tbody>\n",
       "    <tr>\n",
       "      <th>count</th>\n",
       "      <td>888.000000</td>\n",
       "      <td>0.0</td>\n",
       "      <td>843.000000</td>\n",
       "      <td>560.000000</td>\n",
       "      <td>1085.000000</td>\n",
       "      <td>1081.000000</td>\n",
       "      <td>0.0</td>\n",
       "      <td>0.0</td>\n",
       "      <td>0.0</td>\n",
       "      <td>0.0</td>\n",
       "      <td>0.0</td>\n",
       "      <td>0.0</td>\n",
       "    </tr>\n",
       "    <tr>\n",
       "      <th>mean</th>\n",
       "      <td>48.841216</td>\n",
       "      <td>NaN</td>\n",
       "      <td>49.483689</td>\n",
       "      <td>0.042857</td>\n",
       "      <td>0.176959</td>\n",
       "      <td>0.144311</td>\n",
       "      <td>NaN</td>\n",
       "      <td>NaN</td>\n",
       "      <td>NaN</td>\n",
       "      <td>NaN</td>\n",
       "      <td>NaN</td>\n",
       "      <td>NaN</td>\n",
       "    </tr>\n",
       "    <tr>\n",
       "      <th>std</th>\n",
       "      <td>78.853528</td>\n",
       "      <td>NaN</td>\n",
       "      <td>18.255334</td>\n",
       "      <td>0.202716</td>\n",
       "      <td>0.381810</td>\n",
       "      <td>0.351567</td>\n",
       "      <td>NaN</td>\n",
       "      <td>NaN</td>\n",
       "      <td>NaN</td>\n",
       "      <td>NaN</td>\n",
       "      <td>NaN</td>\n",
       "      <td>NaN</td>\n",
       "    </tr>\n",
       "    <tr>\n",
       "      <th>min</th>\n",
       "      <td>1.000000</td>\n",
       "      <td>NaN</td>\n",
       "      <td>0.250000</td>\n",
       "      <td>0.000000</td>\n",
       "      <td>0.000000</td>\n",
       "      <td>0.000000</td>\n",
       "      <td>NaN</td>\n",
       "      <td>NaN</td>\n",
       "      <td>NaN</td>\n",
       "      <td>NaN</td>\n",
       "      <td>NaN</td>\n",
       "      <td>NaN</td>\n",
       "    </tr>\n",
       "    <tr>\n",
       "      <th>25%</th>\n",
       "      <td>11.000000</td>\n",
       "      <td>NaN</td>\n",
       "      <td>35.000000</td>\n",
       "      <td>0.000000</td>\n",
       "      <td>0.000000</td>\n",
       "      <td>0.000000</td>\n",
       "      <td>NaN</td>\n",
       "      <td>NaN</td>\n",
       "      <td>NaN</td>\n",
       "      <td>NaN</td>\n",
       "      <td>NaN</td>\n",
       "      <td>NaN</td>\n",
       "    </tr>\n",
       "    <tr>\n",
       "      <th>50%</th>\n",
       "      <td>28.000000</td>\n",
       "      <td>NaN</td>\n",
       "      <td>51.000000</td>\n",
       "      <td>0.000000</td>\n",
       "      <td>0.000000</td>\n",
       "      <td>0.000000</td>\n",
       "      <td>NaN</td>\n",
       "      <td>NaN</td>\n",
       "      <td>NaN</td>\n",
       "      <td>NaN</td>\n",
       "      <td>NaN</td>\n",
       "      <td>NaN</td>\n",
       "    </tr>\n",
       "    <tr>\n",
       "      <th>75%</th>\n",
       "      <td>67.250000</td>\n",
       "      <td>NaN</td>\n",
       "      <td>64.000000</td>\n",
       "      <td>0.000000</td>\n",
       "      <td>0.000000</td>\n",
       "      <td>0.000000</td>\n",
       "      <td>NaN</td>\n",
       "      <td>NaN</td>\n",
       "      <td>NaN</td>\n",
       "      <td>NaN</td>\n",
       "      <td>NaN</td>\n",
       "      <td>NaN</td>\n",
       "    </tr>\n",
       "    <tr>\n",
       "      <th>max</th>\n",
       "      <td>1443.000000</td>\n",
       "      <td>NaN</td>\n",
       "      <td>96.000000</td>\n",
       "      <td>1.000000</td>\n",
       "      <td>1.000000</td>\n",
       "      <td>1.000000</td>\n",
       "      <td>NaN</td>\n",
       "      <td>NaN</td>\n",
       "      <td>NaN</td>\n",
       "      <td>NaN</td>\n",
       "      <td>NaN</td>\n",
       "      <td>NaN</td>\n",
       "    </tr>\n",
       "  </tbody>\n",
       "</table>\n",
       "</div>"
      ],
      "text/plain": [
       "                id  reporting_date         age  If_onset_approximated  \\\n",
       "count   888.000000             0.0  843.000000             560.000000   \n",
       "mean     48.841216             NaN   49.483689               0.042857   \n",
       "std      78.853528             NaN   18.255334               0.202716   \n",
       "min       1.000000             NaN    0.250000               0.000000   \n",
       "25%      11.000000             NaN   35.000000               0.000000   \n",
       "50%      28.000000             NaN   51.000000               0.000000   \n",
       "75%      67.250000             NaN   64.000000               0.000000   \n",
       "max    1443.000000             NaN   96.000000               1.000000   \n",
       "\n",
       "       visiting_Wuhan   from_Wuhan  Unnamed: 20  Unnamed: 21  Unnamed: 22  \\\n",
       "count     1085.000000  1081.000000          0.0          0.0          0.0   \n",
       "mean         0.176959     0.144311          NaN          NaN          NaN   \n",
       "std          0.381810     0.351567          NaN          NaN          NaN   \n",
       "min          0.000000     0.000000          NaN          NaN          NaN   \n",
       "25%          0.000000     0.000000          NaN          NaN          NaN   \n",
       "50%          0.000000     0.000000          NaN          NaN          NaN   \n",
       "75%          0.000000     0.000000          NaN          NaN          NaN   \n",
       "max          1.000000     1.000000          NaN          NaN          NaN   \n",
       "\n",
       "       Unnamed: 23  Unnamed: 24  Unnamed: 25  \n",
       "count          0.0          0.0          0.0  \n",
       "mean           NaN          NaN          NaN  \n",
       "std            NaN          NaN          NaN  \n",
       "min            NaN          NaN          NaN  \n",
       "25%            NaN          NaN          NaN  \n",
       "50%            NaN          NaN          NaN  \n",
       "75%            NaN          NaN          NaN  \n",
       "max            NaN          NaN          NaN  "
      ]
     },
     "execution_count": 27,
     "metadata": {},
     "output_type": "execute_result"
    }
   ],
   "source": [
    "df.describe()"
   ]
  },
  {
   "cell_type": "code",
   "execution_count": 102,
   "metadata": {},
   "outputs": [
    {
     "data": {
      "text/plain": [
       "array([[<matplotlib.axes._subplots.AxesSubplot object at 0x000001B4F47E0C88>,\n",
       "        <matplotlib.axes._subplots.AxesSubplot object at 0x000001B4F440F278>,\n",
       "        <matplotlib.axes._subplots.AxesSubplot object at 0x000001B4F4447278>],\n",
       "       [<matplotlib.axes._subplots.AxesSubplot object at 0x000001B4F42E2AC8>,\n",
       "        <matplotlib.axes._subplots.AxesSubplot object at 0x000001B4F4420908>,\n",
       "        <matplotlib.axes._subplots.AxesSubplot object at 0x000001B4F4420AC8>],\n",
       "       [<matplotlib.axes._subplots.AxesSubplot object at 0x000001B4F43B0080>,\n",
       "        <matplotlib.axes._subplots.AxesSubplot object at 0x000001B4F43AEDA0>,\n",
       "        <matplotlib.axes._subplots.AxesSubplot object at 0x000001B4F46D8470>],\n",
       "       [<matplotlib.axes._subplots.AxesSubplot object at 0x000001B4F46C9B00>,\n",
       "        <matplotlib.axes._subplots.AxesSubplot object at 0x000001B4F58A41D0>,\n",
       "        <matplotlib.axes._subplots.AxesSubplot object at 0x000001B4F58AB860>]],\n",
       "      dtype=object)"
      ]
     },
     "execution_count": 102,
     "metadata": {},
     "output_type": "execute_result"
    },
    {
     "data": {
      "image/png": "[encoded data removed]",
      "text/plain": [
       "<Figure size 432x288 with 12 Axes>"
      ]
     },
     "metadata": {},
     "output_type": "display_data"
    }
   ],
   "source": [
    "df.hist()"
   ]
  },
  {
   "cell_type": "code",
   "execution_count": 101,
   "metadata": {},
   "outputs": [
    {
     "data": {
      "image/png": "[encoded data removed]",
      "text/plain": [
       "<Figure size 432x288 with 2 Axes>"
      ]
     },
     "metadata": {},
     "output_type": "display_data"
    }
   ],
   "source": [
    "sns.heatmap(df.corr(), annot=True, fmt=\".2f\");"
   ]
  },
  {
   "cell_type": "code",
   "execution_count": 147,
   "metadata": {},
   "outputs": [
    {
     "data": {
      "text/html": [
       "<div>\n",
       "<style scoped>\n",
       "    .dataframe tbody tr th:only-of-type {\n",
       "        vertical-align: middle;\n",
       "    }\n",
       "\n",
       "    .dataframe tbody tr th {\n",
       "        vertical-align: top;\n",
       "    }\n",
       "\n",
       "    .dataframe thead th {\n",
       "        text-align: right;\n",
       "    }\n",
       "</style>\n",
       "<table border=\"1\" class=\"dataframe\">\n",
       "  <thead>\n",
       "    <tr style=\"text-align: right;\">\n",
       "      <th></th>\n",
       "      <th>symptom</th>\n",
       "      <th>case_in_country</th>\n",
       "      <th>summary</th>\n",
       "      <th>source</th>\n",
       "      <th>link</th>\n",
       "    </tr>\n",
       "  </thead>\n",
       "  <tbody>\n",
       "    <tr>\n",
       "      <th>1</th>\n",
       "      <td>NaN</td>\n",
       "      <td>1/20/2020</td>\n",
       "      <td>First confirmed imported COVID-19 pneumonia pa...</td>\n",
       "      <td>Shenzhen Municipal Health Commission</td>\n",
       "      <td>http://wjw.sz.gov.cn/wzx/202001/t20200120_1898...</td>\n",
       "    </tr>\n",
       "    <tr>\n",
       "      <th>2</th>\n",
       "      <td>NaN</td>\n",
       "      <td>1/20/2020</td>\n",
       "      <td>First confirmed imported COVID-19 pneumonia pa...</td>\n",
       "      <td>Official Weibo of Shanghai Municipal Health Co...</td>\n",
       "      <td>https://www.weibo.com/2372649470/IqogQhgfa?fro...</td>\n",
       "    </tr>\n",
       "    <tr>\n",
       "      <th>3</th>\n",
       "      <td>NaN</td>\n",
       "      <td>1/21/2020</td>\n",
       "      <td>First confirmed imported cases in Zhejiang: pa...</td>\n",
       "      <td>Health Commission of Zhejiang Province</td>\n",
       "      <td>http://www.zjwjw.gov.cn/art/2020/1/21/art_1202...</td>\n",
       "    </tr>\n",
       "    <tr>\n",
       "      <th>4</th>\n",
       "      <td>NaN</td>\n",
       "      <td>1/21/2020</td>\n",
       "      <td>new confirmed imported COVID-19 pneumonia in T...</td>\n",
       "      <td>人民日报官方微博</td>\n",
       "      <td>https://m.weibo.cn/status/4463235401268457?</td>\n",
       "    </tr>\n",
       "    <tr>\n",
       "      <th>5</th>\n",
       "      <td>NaN</td>\n",
       "      <td>1/21/2020</td>\n",
       "      <td>new confirmed imported COVID-19 pneumonia in T...</td>\n",
       "      <td>人民日报官方微博</td>\n",
       "      <td>https://m.weibo.cn/status/4463235401268457?</td>\n",
       "    </tr>\n",
       "  </tbody>\n",
       "</table>\n",
       "</div>"
      ],
      "text/plain": [
       "  symptom case_in_country                                            summary  \\\n",
       "1     NaN       1/20/2020  First confirmed imported COVID-19 pneumonia pa...   \n",
       "2     NaN       1/20/2020  First confirmed imported COVID-19 pneumonia pa...   \n",
       "3     NaN       1/21/2020  First confirmed imported cases in Zhejiang: pa...   \n",
       "4     NaN       1/21/2020  new confirmed imported COVID-19 pneumonia in T...   \n",
       "5     NaN       1/21/2020  new confirmed imported COVID-19 pneumonia in T...   \n",
       "\n",
       "                                              source  \\\n",
       "1               Shenzhen Municipal Health Commission   \n",
       "2  Official Weibo of Shanghai Municipal Health Co...   \n",
       "3             Health Commission of Zhejiang Province   \n",
       "4                                           人民日报官方微博   \n",
       "5                                           人民日报官方微博   \n",
       "\n",
       "                                                link  \n",
       "1  http://wjw.sz.gov.cn/wzx/202001/t20200120_1898...  \n",
       "2  https://www.weibo.com/2372649470/IqogQhgfa?fro...  \n",
       "3  http://www.zjwjw.gov.cn/art/2020/1/21/art_1202...  \n",
       "4        https://m.weibo.cn/status/4463235401268457?  \n",
       "5        https://m.weibo.cn/status/4463235401268457?  "
      ]
     },
     "execution_count": 147,
     "metadata": {},
     "output_type": "execute_result"
    }
   ],
   "source": [
    "num_vars = df[['symptom', 'case_in_country', 'summary', 'source', 'link']]\n",
    "\n",
    "num_vars.head()"
   ]
  },
  {
   "cell_type": "code",
   "execution_count": 148,
   "metadata": {},
   "outputs": [
    {
     "data": {
      "text/html": [
       "<div>\n",
       "<style scoped>\n",
       "    .dataframe tbody tr th:only-of-type {\n",
       "        vertical-align: middle;\n",
       "    }\n",
       "\n",
       "    .dataframe tbody tr th {\n",
       "        vertical-align: top;\n",
       "    }\n",
       "\n",
       "    .dataframe thead th {\n",
       "        text-align: right;\n",
       "    }\n",
       "</style>\n",
       "<table border=\"1\" class=\"dataframe\">\n",
       "  <thead>\n",
       "    <tr style=\"text-align: right;\">\n",
       "      <th></th>\n",
       "      <th>symptom</th>\n",
       "      <th>case_in_country</th>\n",
       "      <th>summary</th>\n",
       "      <th>source</th>\n",
       "      <th>link</th>\n",
       "    </tr>\n",
       "  </thead>\n",
       "  <tbody>\n",
       "    <tr>\n",
       "      <th>195</th>\n",
       "      <td>feaver, cough, difficult in breathing</td>\n",
       "      <td>1/27/2020</td>\n",
       "      <td>new recovered COVID-19 pneumonia patient in Hu...</td>\n",
       "      <td>人民日报</td>\n",
       "      <td>https://m.weibo.cn/status/4465382079294013?</td>\n",
       "    </tr>\n",
       "    <tr>\n",
       "      <th>196</th>\n",
       "      <td>feaver, cough, difficult in breathing</td>\n",
       "      <td>1/27/2020</td>\n",
       "      <td>new recovered COVID-19 pneumonia patient in Hu...</td>\n",
       "      <td>人民日报</td>\n",
       "      <td>https://m.weibo.cn/status/4465382079294013?</td>\n",
       "    </tr>\n",
       "    <tr>\n",
       "      <th>197</th>\n",
       "      <td>fever</td>\n",
       "      <td>1/27/2020</td>\n",
       "      <td>new recovered COVID-19 pneumonia patient in Sh...</td>\n",
       "      <td>人民日报</td>\n",
       "      <td>https://m.weibo.cn/status/4465385308652598?</td>\n",
       "    </tr>\n",
       "    <tr>\n",
       "      <th>237</th>\n",
       "      <td>fever</td>\n",
       "      <td>1/15/2020</td>\n",
       "      <td>new confirmed COVID-19 patient in Japan: male,...</td>\n",
       "      <td>HK World-Japan</td>\n",
       "      <td>https://www3.nhk.or.jp/nhkworld/en/news/202001...</td>\n",
       "    </tr>\n",
       "    <tr>\n",
       "      <th>241</th>\n",
       "      <td>fever</td>\n",
       "      <td>1/28/2020</td>\n",
       "      <td>new confirmed COVID-19 patient in Japan: male,...</td>\n",
       "      <td>Kyodo News</td>\n",
       "      <td>https://english.kyodonews.net/news/2020/01/e8f...</td>\n",
       "    </tr>\n",
       "  </tbody>\n",
       "</table>\n",
       "</div>"
      ],
      "text/plain": [
       "                                   symptom case_in_country  \\\n",
       "195  feaver, cough, difficult in breathing       1/27/2020   \n",
       "196  feaver, cough, difficult in breathing       1/27/2020   \n",
       "197                                  fever       1/27/2020   \n",
       "237                                  fever       1/15/2020   \n",
       "241                                  fever       1/28/2020   \n",
       "\n",
       "                                               summary          source  \\\n",
       "195  new recovered COVID-19 pneumonia patient in Hu...            人民日报   \n",
       "196  new recovered COVID-19 pneumonia patient in Hu...            人民日报   \n",
       "197  new recovered COVID-19 pneumonia patient in Sh...            人民日报   \n",
       "237  new confirmed COVID-19 patient in Japan: male,...  HK World-Japan   \n",
       "241  new confirmed COVID-19 patient in Japan: male,...      Kyodo News   \n",
       "\n",
       "                                                  link  \n",
       "195        https://m.weibo.cn/status/4465382079294013?  \n",
       "196        https://m.weibo.cn/status/4465382079294013?  \n",
       "197        https://m.weibo.cn/status/4465385308652598?  \n",
       "237  https://www3.nhk.or.jp/nhkworld/en/news/202001...  \n",
       "241  https://english.kyodonews.net/news/2020/01/e8f...  "
      ]
     },
     "execution_count": 148,
     "metadata": {},
     "output_type": "execute_result"
    }
   ],
   "source": [
    "all_rm = num_vars.dropna(axis=0) # dataframe with rows for nan removed\n",
    "\n",
    "all_rm.head()"
   ]
  },
  {
   "cell_type": "code",
   "execution_count": null,
   "metadata": {},
   "outputs": [],
   "source": []
  }
 ],
 "metadata": {
  "kernelspec": {
   "display_name": "Python 3",
   "language": "python",
   "name": "python3"
  },
  "language_info": {
   "codemirror_mode": {
    "name": "ipython",
    "version": 3
   },
   "file_extension": ".py",
   "mimetype": "text/x-python",
   "name": "python",
   "nbconvert_exporter": "python",
   "pygments_lexer": "ipython3",
   "version": "3.6.5"
  }
 },
 "nbformat": 4,
 "nbformat_minor": 2
}
